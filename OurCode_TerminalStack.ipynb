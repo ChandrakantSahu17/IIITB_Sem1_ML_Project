{
 "cells": [
  {
   "cell_type": "markdown",
   "id": "f41b4674",
   "metadata": {},
   "source": [
    "# Come Visit Again\n",
    "## Team Members : \n",
    "* Abhishek Tandon\n",
    "* Chandrakant Sahu"
   ]
  },
  {
   "cell_type": "markdown",
   "id": "ff1342cb",
   "metadata": {},
   "source": [
    "# Project Overview"
   ]
  },
  {
   "cell_type": "markdown",
   "id": "f10a9e52",
   "metadata": {},
   "source": [
    "### Discription\n",
    "TAs have collected data from Chwiggy & Yomato (restaurant sales service & review platforms)\n",
    "\n",
    "### Evaluation\n",
    "TAs are challenging us to predict the expected number of visitors to a given restaurant on given date to help the restaurants be better equipped and prepared.\n"
   ]
  },
  {
   "cell_type": "markdown",
   "id": "ebe45a43",
   "metadata": {},
   "source": [
    "### Data Description\n",
    "In this competition, we are provided a time-series forecasting problem centered around restaurant visitors.<br>\n",
    "The data comes from two separate sites:<br>\n",
    " -> Yomato(yom) - which uses high performance grouping (hpg) to collect and store restaurant data.<br>\n",
    " -> Chwiggy(chw) - which uses all index restaurant (air) to collect and store the restaurant data.<p>\n",
    "We have use the reservations, visits, and other information from these sites to forecast future restaurant\n",
    "visitor totals on a given date. The training data covers the dates from 2016 until early (first week) April 2017.\n",
    "The test set covers the mid weeks (second and third weeks) of April 2017. The training and testing set both\n",
    "omit days where the restaurants were closed."
   ]
  },
  {
   "cell_type": "markdown",
   "id": "c6952048",
   "metadata": {},
   "source": [
    "<h2>File Description:</h2>\n",
    "<p>This is a relational dataset from two systems. Each file is prefaced with the source (either air_ or hpg_) to indicate its origin. Each restaurant has a unique <code>chw_store_id</code> and <code>yom_store_id</code>. Note that not all restaurants are covered by both systems, and that you have been provided data beyond the restaurants for which you must forecast.</p>\n",
    "<h2><strong>train.csv</strong></h2>\n",
    "<p>This file contains historical visit data for the chwiggy restaurants.</p>\n",
    "<ol>\n",
    "<li>chw_store_id - store id with air prefix.</li>\n",
    "<li>visit_date - the date</li>\n",
    "<li>visitors - the number of visitors to the restaurant on the date</li>\n",
    "</ol>\n",
    "<h2><strong>sample_submission.csv</strong></h2>\n",
    "<p>This file shows a submission in the correct format, including the days for which you must forecast.</p>\n",
    "<ol>\n",
    "<li>id - the id is formed by concatenating the chw_store_id and visit_date with an underscore.</li>\n",
    "<li>visitors- the number of visitors forecasted for the store and date combination.</li>\n",
    "</ol>"
   ]
  },
  {
   "cell_type": "code",
   "execution_count": 33,
   "id": "543a1e0d",
   "metadata": {},
   "outputs": [],
   "source": [
    "import pandas as pd\n",
    "import numpy as np\n",
    "import matplotlib.pyplot as plt\n",
    "%matplotlib inline\n",
    "import seaborn as sns\n",
    "import warnings\n",
    "warnings.filterwarnings(\"ignore\")"
   ]
  },
  {
   "cell_type": "code",
   "execution_count": 34,
   "id": "4451c1a7",
   "metadata": {},
   "outputs": [],
   "source": [
    "pd.set_option(\"display.max_rows\", 20)\n",
    "pd.set_option(\"display.max_columns\", 50)\n",
    "pd.set_option('display.float_format', lambda x: '%.2f' % x)\n",
    "sns.set(color_codes=True)"
   ]
  },
  {
   "cell_type": "markdown",
   "id": "d4c97bd8",
   "metadata": {},
   "source": [
    "# Chwiggy CSV Analysis"
   ]
  },
  {
   "cell_type": "markdown",
   "id": "6f8d0976",
   "metadata": {},
   "source": [
    "__chw_reserve__\n",
    "\n",
    "Column Name | Column Description\n",
    "-------------|:------------------\n",
    "chw_store_id | restaurant id in the Chwiggy system\n",
    "visit_datetime| time of the reservation\n",
    "reserve_datetime | time the reservation was made\n",
    "reserve_visitors | number of visitors for that reservation"
   ]
  },
  {
   "cell_type": "code",
   "execution_count": 35,
   "id": "4cd3b7cc",
   "metadata": {},
   "outputs": [],
   "source": [
    "chw_reserve = pd.read_csv('Data/come-visit-again-iiitb/chw_reserve.csv')"
   ]
  },
  {
   "cell_type": "code",
   "execution_count": 36,
   "id": "d2fcdc7b",
   "metadata": {},
   "outputs": [
    {
     "data": {
      "text/html": [
       "<div>\n",
       "<style scoped>\n",
       "    .dataframe tbody tr th:only-of-type {\n",
       "        vertical-align: middle;\n",
       "    }\n",
       "\n",
       "    .dataframe tbody tr th {\n",
       "        vertical-align: top;\n",
       "    }\n",
       "\n",
       "    .dataframe thead th {\n",
       "        text-align: right;\n",
       "    }\n",
       "</style>\n",
       "<table border=\"1\" class=\"dataframe\">\n",
       "  <thead>\n",
       "    <tr style=\"text-align: right;\">\n",
       "      <th></th>\n",
       "      <th>chw_store_id</th>\n",
       "      <th>visit_datetime</th>\n",
       "      <th>reserve_datetime</th>\n",
       "      <th>reserve_visitors</th>\n",
       "    </tr>\n",
       "  </thead>\n",
       "  <tbody>\n",
       "    <tr>\n",
       "      <th>0</th>\n",
       "      <td>air_877f79706adbfb06</td>\n",
       "      <td>1/1/2016 19:00</td>\n",
       "      <td>1/1/2016 16:00</td>\n",
       "      <td>1</td>\n",
       "    </tr>\n",
       "    <tr>\n",
       "      <th>1</th>\n",
       "      <td>air_db4b38ebe7a7ceff</td>\n",
       "      <td>1/1/2016 19:00</td>\n",
       "      <td>1/1/2016 19:00</td>\n",
       "      <td>3</td>\n",
       "    </tr>\n",
       "    <tr>\n",
       "      <th>2</th>\n",
       "      <td>air_db4b38ebe7a7ceff</td>\n",
       "      <td>1/1/2016 19:00</td>\n",
       "      <td>1/1/2016 19:00</td>\n",
       "      <td>6</td>\n",
       "    </tr>\n",
       "    <tr>\n",
       "      <th>3</th>\n",
       "      <td>air_877f79706adbfb06</td>\n",
       "      <td>1/1/2016 20:00</td>\n",
       "      <td>1/1/2016 16:00</td>\n",
       "      <td>2</td>\n",
       "    </tr>\n",
       "    <tr>\n",
       "      <th>4</th>\n",
       "      <td>air_db80363d35f10926</td>\n",
       "      <td>1/1/2016 20:00</td>\n",
       "      <td>1/1/2016 1:00</td>\n",
       "      <td>5</td>\n",
       "    </tr>\n",
       "  </tbody>\n",
       "</table>\n",
       "</div>"
      ],
      "text/plain": [
       "           chw_store_id  visit_datetime reserve_datetime  reserve_visitors\n",
       "0  air_877f79706adbfb06  1/1/2016 19:00   1/1/2016 16:00                 1\n",
       "1  air_db4b38ebe7a7ceff  1/1/2016 19:00   1/1/2016 19:00                 3\n",
       "2  air_db4b38ebe7a7ceff  1/1/2016 19:00   1/1/2016 19:00                 6\n",
       "3  air_877f79706adbfb06  1/1/2016 20:00   1/1/2016 16:00                 2\n",
       "4  air_db80363d35f10926  1/1/2016 20:00    1/1/2016 1:00                 5"
      ]
     },
     "execution_count": 36,
     "metadata": {},
     "output_type": "execute_result"
    }
   ],
   "source": [
    "chw_reserve.head()"
   ]
  },
  {
   "cell_type": "code",
   "execution_count": 37,
   "id": "d08e9a94",
   "metadata": {},
   "outputs": [
    {
     "name": "stdout",
     "output_type": "stream",
     "text": [
      "2016-01-01 20:00:00\n"
     ]
    }
   ],
   "source": [
    "from dateutil.parser import parse\n",
    "print(parse(chw_reserve['visit_datetime'][4]))"
   ]
  },
  {
   "cell_type": "code",
   "execution_count": 38,
   "id": "f7c8a1e8",
   "metadata": {},
   "outputs": [],
   "source": [
    "#parsing date time so that date time of every table/relation matches\n",
    "chw_reserve['visit_datetime'] = [ parse(i) for i in chw_reserve['visit_datetime']]"
   ]
  },
  {
   "cell_type": "code",
   "execution_count": 39,
   "id": "10cd132f",
   "metadata": {},
   "outputs": [
    {
     "data": {
      "text/html": [
       "<div>\n",
       "<style scoped>\n",
       "    .dataframe tbody tr th:only-of-type {\n",
       "        vertical-align: middle;\n",
       "    }\n",
       "\n",
       "    .dataframe tbody tr th {\n",
       "        vertical-align: top;\n",
       "    }\n",
       "\n",
       "    .dataframe thead th {\n",
       "        text-align: right;\n",
       "    }\n",
       "</style>\n",
       "<table border=\"1\" class=\"dataframe\">\n",
       "  <thead>\n",
       "    <tr style=\"text-align: right;\">\n",
       "      <th></th>\n",
       "      <th>chw_store_id</th>\n",
       "      <th>visit_datetime</th>\n",
       "      <th>reserve_datetime</th>\n",
       "      <th>reserve_visitors</th>\n",
       "    </tr>\n",
       "  </thead>\n",
       "  <tbody>\n",
       "    <tr>\n",
       "      <th>0</th>\n",
       "      <td>air_877f79706adbfb06</td>\n",
       "      <td>2016-01-01 19:00:00</td>\n",
       "      <td>1/1/2016 16:00</td>\n",
       "      <td>1</td>\n",
       "    </tr>\n",
       "    <tr>\n",
       "      <th>1</th>\n",
       "      <td>air_db4b38ebe7a7ceff</td>\n",
       "      <td>2016-01-01 19:00:00</td>\n",
       "      <td>1/1/2016 19:00</td>\n",
       "      <td>3</td>\n",
       "    </tr>\n",
       "    <tr>\n",
       "      <th>2</th>\n",
       "      <td>air_db4b38ebe7a7ceff</td>\n",
       "      <td>2016-01-01 19:00:00</td>\n",
       "      <td>1/1/2016 19:00</td>\n",
       "      <td>6</td>\n",
       "    </tr>\n",
       "    <tr>\n",
       "      <th>3</th>\n",
       "      <td>air_877f79706adbfb06</td>\n",
       "      <td>2016-01-01 20:00:00</td>\n",
       "      <td>1/1/2016 16:00</td>\n",
       "      <td>2</td>\n",
       "    </tr>\n",
       "    <tr>\n",
       "      <th>4</th>\n",
       "      <td>air_db80363d35f10926</td>\n",
       "      <td>2016-01-01 20:00:00</td>\n",
       "      <td>1/1/2016 1:00</td>\n",
       "      <td>5</td>\n",
       "    </tr>\n",
       "  </tbody>\n",
       "</table>\n",
       "</div>"
      ],
      "text/plain": [
       "           chw_store_id      visit_datetime reserve_datetime  reserve_visitors\n",
       "0  air_877f79706adbfb06 2016-01-01 19:00:00   1/1/2016 16:00                 1\n",
       "1  air_db4b38ebe7a7ceff 2016-01-01 19:00:00   1/1/2016 19:00                 3\n",
       "2  air_db4b38ebe7a7ceff 2016-01-01 19:00:00   1/1/2016 19:00                 6\n",
       "3  air_877f79706adbfb06 2016-01-01 20:00:00   1/1/2016 16:00                 2\n",
       "4  air_db80363d35f10926 2016-01-01 20:00:00    1/1/2016 1:00                 5"
      ]
     },
     "execution_count": 39,
     "metadata": {},
     "output_type": "execute_result"
    }
   ],
   "source": [
    "chw_reserve.head()"
   ]
  },
  {
   "cell_type": "code",
   "execution_count": 40,
   "id": "5b15f6e0",
   "metadata": {},
   "outputs": [
    {
     "data": {
      "text/html": [
       "<div>\n",
       "<style scoped>\n",
       "    .dataframe tbody tr th:only-of-type {\n",
       "        vertical-align: middle;\n",
       "    }\n",
       "\n",
       "    .dataframe tbody tr th {\n",
       "        vertical-align: top;\n",
       "    }\n",
       "\n",
       "    .dataframe thead th {\n",
       "        text-align: right;\n",
       "    }\n",
       "</style>\n",
       "<table border=\"1\" class=\"dataframe\">\n",
       "  <thead>\n",
       "    <tr style=\"text-align: right;\">\n",
       "      <th></th>\n",
       "      <th>chw_store_id</th>\n",
       "      <th>visit_datetime</th>\n",
       "      <th>reserve_datetime</th>\n",
       "      <th>reserve_visitors</th>\n",
       "    </tr>\n",
       "  </thead>\n",
       "  <tbody>\n",
       "    <tr>\n",
       "      <th>0</th>\n",
       "      <td>air_877f79706adbfb06</td>\n",
       "      <td>2016-01-01 19:00:00</td>\n",
       "      <td>2016-01-01 16:00:00</td>\n",
       "      <td>1</td>\n",
       "    </tr>\n",
       "    <tr>\n",
       "      <th>1</th>\n",
       "      <td>air_db4b38ebe7a7ceff</td>\n",
       "      <td>2016-01-01 19:00:00</td>\n",
       "      <td>2016-01-01 19:00:00</td>\n",
       "      <td>3</td>\n",
       "    </tr>\n",
       "    <tr>\n",
       "      <th>2</th>\n",
       "      <td>air_db4b38ebe7a7ceff</td>\n",
       "      <td>2016-01-01 19:00:00</td>\n",
       "      <td>2016-01-01 19:00:00</td>\n",
       "      <td>6</td>\n",
       "    </tr>\n",
       "    <tr>\n",
       "      <th>3</th>\n",
       "      <td>air_877f79706adbfb06</td>\n",
       "      <td>2016-01-01 20:00:00</td>\n",
       "      <td>2016-01-01 16:00:00</td>\n",
       "      <td>2</td>\n",
       "    </tr>\n",
       "    <tr>\n",
       "      <th>4</th>\n",
       "      <td>air_db80363d35f10926</td>\n",
       "      <td>2016-01-01 20:00:00</td>\n",
       "      <td>2016-01-01 01:00:00</td>\n",
       "      <td>5</td>\n",
       "    </tr>\n",
       "  </tbody>\n",
       "</table>\n",
       "</div>"
      ],
      "text/plain": [
       "           chw_store_id      visit_datetime    reserve_datetime  \\\n",
       "0  air_877f79706adbfb06 2016-01-01 19:00:00 2016-01-01 16:00:00   \n",
       "1  air_db4b38ebe7a7ceff 2016-01-01 19:00:00 2016-01-01 19:00:00   \n",
       "2  air_db4b38ebe7a7ceff 2016-01-01 19:00:00 2016-01-01 19:00:00   \n",
       "3  air_877f79706adbfb06 2016-01-01 20:00:00 2016-01-01 16:00:00   \n",
       "4  air_db80363d35f10926 2016-01-01 20:00:00 2016-01-01 01:00:00   \n",
       "\n",
       "   reserve_visitors  \n",
       "0                 1  \n",
       "1                 3  \n",
       "2                 6  \n",
       "3                 2  \n",
       "4                 5  "
      ]
     },
     "execution_count": 40,
     "metadata": {},
     "output_type": "execute_result"
    }
   ],
   "source": [
    "chw_reserve['reserve_datetime'] = [ parse(i) for i in chw_reserve['reserve_datetime']]\n",
    "chw_reserve.head()"
   ]
  },
  {
   "cell_type": "code",
   "execution_count": 41,
   "id": "c2a5cc78",
   "metadata": {},
   "outputs": [
    {
     "name": "stdout",
     "output_type": "stream",
     "text": [
      "<class 'pandas.core.frame.DataFrame'>\n",
      "RangeIndex: 92378 entries, 0 to 92377\n",
      "Data columns (total 4 columns):\n",
      " #   Column            Non-Null Count  Dtype         \n",
      "---  ------            --------------  -----         \n",
      " 0   chw_store_id      92378 non-null  object        \n",
      " 1   visit_datetime    92378 non-null  datetime64[ns]\n",
      " 2   reserve_datetime  92378 non-null  datetime64[ns]\n",
      " 3   reserve_visitors  92378 non-null  int64         \n",
      "dtypes: datetime64[ns](2), int64(1), object(1)\n",
      "memory usage: 2.8+ MB\n"
     ]
    }
   ],
   "source": [
    "chw_reserve.info()"
   ]
  },
  {
   "cell_type": "markdown",
   "id": "afa655fc",
   "metadata": {},
   "source": [
    "* We have total 92378 rows in the table with 4 columns. \n",
    "* Visit Dates and Reserve Dates are currently object data types, which needs to be converted to __data time format__. "
   ]
  },
  {
   "cell_type": "code",
   "execution_count": 42,
   "id": "f1cbe49e",
   "metadata": {},
   "outputs": [
    {
     "data": {
      "text/html": [
       "<div>\n",
       "<style scoped>\n",
       "    .dataframe tbody tr th:only-of-type {\n",
       "        vertical-align: middle;\n",
       "    }\n",
       "\n",
       "    .dataframe tbody tr th {\n",
       "        vertical-align: top;\n",
       "    }\n",
       "\n",
       "    .dataframe thead th {\n",
       "        text-align: right;\n",
       "    }\n",
       "</style>\n",
       "<table border=\"1\" class=\"dataframe\">\n",
       "  <thead>\n",
       "    <tr style=\"text-align: right;\">\n",
       "      <th></th>\n",
       "      <th>reserve_visitors</th>\n",
       "    </tr>\n",
       "  </thead>\n",
       "  <tbody>\n",
       "    <tr>\n",
       "      <th>count</th>\n",
       "      <td>92378.00</td>\n",
       "    </tr>\n",
       "    <tr>\n",
       "      <th>mean</th>\n",
       "      <td>4.48</td>\n",
       "    </tr>\n",
       "    <tr>\n",
       "      <th>std</th>\n",
       "      <td>4.92</td>\n",
       "    </tr>\n",
       "    <tr>\n",
       "      <th>min</th>\n",
       "      <td>1.00</td>\n",
       "    </tr>\n",
       "    <tr>\n",
       "      <th>25%</th>\n",
       "      <td>2.00</td>\n",
       "    </tr>\n",
       "    <tr>\n",
       "      <th>50%</th>\n",
       "      <td>3.00</td>\n",
       "    </tr>\n",
       "    <tr>\n",
       "      <th>75%</th>\n",
       "      <td>5.00</td>\n",
       "    </tr>\n",
       "    <tr>\n",
       "      <th>max</th>\n",
       "      <td>100.00</td>\n",
       "    </tr>\n",
       "  </tbody>\n",
       "</table>\n",
       "</div>"
      ],
      "text/plain": [
       "       reserve_visitors\n",
       "count          92378.00\n",
       "mean               4.48\n",
       "std                4.92\n",
       "min                1.00\n",
       "25%                2.00\n",
       "50%                3.00\n",
       "75%                5.00\n",
       "max              100.00"
      ]
     },
     "execution_count": 42,
     "metadata": {},
     "output_type": "execute_result"
    }
   ],
   "source": [
    "chw_reserve.describe()"
   ]
  },
  {
   "cell_type": "markdown",
   "id": "f11118a9",
   "metadata": {},
   "source": [
    "* We have atleast 1 visitor for all rows. And it's obious because 0 reservation dosen't make any sence. \n",
    "* Maximum visitors count is 100 which is much higher than the mean visitors count. \n",
    "* We have data from 2016-01-01 19:00:00 and end date is 2017-05-31 21:00:00"
   ]
  },
  {
   "cell_type": "code",
   "execution_count": 43,
   "id": "6d6ef4b3",
   "metadata": {},
   "outputs": [
    {
     "data": {
      "text/plain": [
       "False"
      ]
     },
     "execution_count": 43,
     "metadata": {},
     "output_type": "execute_result"
    }
   ],
   "source": [
    "#let's check if there is any null value in chw_reserve\n",
    "chw_reserve.isnull().values.any()"
   ]
  },
  {
   "cell_type": "markdown",
   "id": "9371961a",
   "metadata": {},
   "source": [
    "There are __no null value__ in __chw_reserve__"
   ]
  },
  {
   "cell_type": "code",
   "execution_count": 44,
   "id": "075ba6eb",
   "metadata": {},
   "outputs": [
    {
     "name": "stdout",
     "output_type": "stream",
     "text": [
      "Number of unique restaunts in chwigge -  314\n"
     ]
    }
   ],
   "source": [
    "print( \"Number of unique restaunts in chwigge - \", len(chw_reserve['chw_store_id'].unique()))"
   ]
  },
  {
   "cell_type": "code",
   "execution_count": 45,
   "id": "e45c63a7",
   "metadata": {},
   "outputs": [
    {
     "data": {
      "text/html": [
       "<div>\n",
       "<style scoped>\n",
       "    .dataframe tbody tr th:only-of-type {\n",
       "        vertical-align: middle;\n",
       "    }\n",
       "\n",
       "    .dataframe tbody tr th {\n",
       "        vertical-align: top;\n",
       "    }\n",
       "\n",
       "    .dataframe thead th {\n",
       "        text-align: right;\n",
       "    }\n",
       "</style>\n",
       "<table border=\"1\" class=\"dataframe\">\n",
       "  <thead>\n",
       "    <tr style=\"text-align: right;\">\n",
       "      <th></th>\n",
       "      <th>chw_store_id</th>\n",
       "      <th>visit_datetime</th>\n",
       "      <th>reserve_datetime</th>\n",
       "      <th>reserve_visitors</th>\n",
       "      <th>visit_year</th>\n",
       "      <th>visit_month</th>\n",
       "      <th>visit_weekday</th>\n",
       "      <th>visit_date</th>\n",
       "    </tr>\n",
       "  </thead>\n",
       "  <tbody>\n",
       "    <tr>\n",
       "      <th>0</th>\n",
       "      <td>air_877f79706adbfb06</td>\n",
       "      <td>2016-01-01 19:00:00</td>\n",
       "      <td>2016-01-01 16:00:00</td>\n",
       "      <td>1</td>\n",
       "      <td>2016</td>\n",
       "      <td>1</td>\n",
       "      <td>4</td>\n",
       "      <td>2016-01-01</td>\n",
       "    </tr>\n",
       "    <tr>\n",
       "      <th>1</th>\n",
       "      <td>air_db4b38ebe7a7ceff</td>\n",
       "      <td>2016-01-01 19:00:00</td>\n",
       "      <td>2016-01-01 19:00:00</td>\n",
       "      <td>3</td>\n",
       "      <td>2016</td>\n",
       "      <td>1</td>\n",
       "      <td>4</td>\n",
       "      <td>2016-01-01</td>\n",
       "    </tr>\n",
       "    <tr>\n",
       "      <th>2</th>\n",
       "      <td>air_db4b38ebe7a7ceff</td>\n",
       "      <td>2016-01-01 19:00:00</td>\n",
       "      <td>2016-01-01 19:00:00</td>\n",
       "      <td>6</td>\n",
       "      <td>2016</td>\n",
       "      <td>1</td>\n",
       "      <td>4</td>\n",
       "      <td>2016-01-01</td>\n",
       "    </tr>\n",
       "    <tr>\n",
       "      <th>3</th>\n",
       "      <td>air_877f79706adbfb06</td>\n",
       "      <td>2016-01-01 20:00:00</td>\n",
       "      <td>2016-01-01 16:00:00</td>\n",
       "      <td>2</td>\n",
       "      <td>2016</td>\n",
       "      <td>1</td>\n",
       "      <td>4</td>\n",
       "      <td>2016-01-01</td>\n",
       "    </tr>\n",
       "    <tr>\n",
       "      <th>4</th>\n",
       "      <td>air_db80363d35f10926</td>\n",
       "      <td>2016-01-01 20:00:00</td>\n",
       "      <td>2016-01-01 01:00:00</td>\n",
       "      <td>5</td>\n",
       "      <td>2016</td>\n",
       "      <td>1</td>\n",
       "      <td>4</td>\n",
       "      <td>2016-01-01</td>\n",
       "    </tr>\n",
       "  </tbody>\n",
       "</table>\n",
       "</div>"
      ],
      "text/plain": [
       "           chw_store_id      visit_datetime    reserve_datetime  \\\n",
       "0  air_877f79706adbfb06 2016-01-01 19:00:00 2016-01-01 16:00:00   \n",
       "1  air_db4b38ebe7a7ceff 2016-01-01 19:00:00 2016-01-01 19:00:00   \n",
       "2  air_db4b38ebe7a7ceff 2016-01-01 19:00:00 2016-01-01 19:00:00   \n",
       "3  air_877f79706adbfb06 2016-01-01 20:00:00 2016-01-01 16:00:00   \n",
       "4  air_db80363d35f10926 2016-01-01 20:00:00 2016-01-01 01:00:00   \n",
       "\n",
       "   reserve_visitors  visit_year  visit_month  visit_weekday  visit_date  \n",
       "0                 1        2016            1              4  2016-01-01  \n",
       "1                 3        2016            1              4  2016-01-01  \n",
       "2                 6        2016            1              4  2016-01-01  \n",
       "3                 2        2016            1              4  2016-01-01  \n",
       "4                 5        2016            1              4  2016-01-01  "
      ]
     },
     "execution_count": 45,
     "metadata": {},
     "output_type": "execute_result"
    }
   ],
   "source": [
    "chw_reserve[\"visit_year\"] = pd.DatetimeIndex(chw_reserve['visit_datetime']).year\n",
    "chw_reserve[\"visit_month\"] = pd.DatetimeIndex(chw_reserve['visit_datetime']).month\n",
    "chw_reserve[\"visit_weekday\"] = pd.DatetimeIndex(chw_reserve['visit_datetime']).weekday\n",
    "chw_reserve[\"visit_date\"] = pd.DatetimeIndex(chw_reserve['visit_datetime']).date\n",
    "chw_reserve.head()"
   ]
  },
  {
   "cell_type": "code",
   "execution_count": 46,
   "id": "2e5a99c1",
   "metadata": {},
   "outputs": [
    {
     "data": {
      "image/png": "[encoded data removed]",
      "text/plain": [
       "<Figure size 720x360 with 1 Axes>"
      ]
     },
     "metadata": {},
     "output_type": "display_data"
    }
   ],
   "source": [
    "temp = chw_reserve.groupby(['visit_year','visit_month'])['reserve_visitors'].sum()\n",
    "temp.plot(kind='bar',xlabel = \"Month January=1 to December=12\",ylabel=\"Total Reserved Visitors\",figsize=(10,5))\n",
    "plt.show()"
   ]
  },
  {
   "cell_type": "markdown",
   "id": "5b1bd5f7",
   "metadata": {},
   "source": [
    "* There is a certain jump in total visits after November 2016\n",
    "* Missing values in Dates."
   ]
  },
  {
   "cell_type": "code",
   "execution_count": 47,
   "id": "3d4dbdb1",
   "metadata": {},
   "outputs": [
    {
     "data": {
      "image/png": "[encoded data removed]",
      "text/plain": [
       "<Figure size 720x360 with 1 Axes>"
      ]
     },
     "metadata": {},
     "output_type": "display_data"
    }
   ],
   "source": [
    "temp = chw_reserve.groupby('visit_weekday')['reserve_visitors'].sum()\n",
    "temp.plot(kind='bar',xlabel = \"Weekdays Monday=0 to Sunday=6\",ylabel=\"Total Reserved Visitors\",figsize=(10,5))\n",
    "plt.show()"
   ]
  },
  {
   "cell_type": "markdown",
   "id": "9551edd2",
   "metadata": {},
   "source": [
    "* There are usually more number of visitors on __Fridays and Saturdays__"
   ]
  },
  {
   "cell_type": "markdown",
   "id": "5821b484",
   "metadata": {},
   "source": [
    "# Chwiggy Store Info CSV Analysis"
   ]
  },
  {
   "cell_type": "markdown",
   "id": "276f2bc9",
   "metadata": {},
   "source": [
    "__chw_store_info.csv__\n",
    "\n",
    "Column Name | Column Description\n",
    "-------------|:------------------\n",
    "chw_store_id | restaurant id in the air system\n",
    "chw_genre_name | genre in the air system\n",
    "chw_area_name | area of the restaurant in the air system\n",
    "latitude | latitude\n",
    "longitude | longitude"
   ]
  },
  {
   "cell_type": "code",
   "execution_count": 48,
   "id": "4f5e0f9b",
   "metadata": {},
   "outputs": [
    {
     "name": "stdout",
     "output_type": "stream",
     "text": [
      "<class 'pandas.core.frame.DataFrame'>\n",
      "RangeIndex: 829 entries, 0 to 828\n",
      "Data columns (total 5 columns):\n",
      " #   Column          Non-Null Count  Dtype  \n",
      "---  ------          --------------  -----  \n",
      " 0   chw_store_id    829 non-null    object \n",
      " 1   chw_genre_name  829 non-null    object \n",
      " 2   chw_area_name   829 non-null    object \n",
      " 3   latitude        829 non-null    float64\n",
      " 4   longitude       829 non-null    float64\n",
      "dtypes: float64(2), object(3)\n",
      "memory usage: 32.5+ KB\n"
     ]
    }
   ],
   "source": [
    "chw_store_info = pd.read_csv('Data/come-visit-again-iiitb/chw_store_info.csv')\n",
    "chw_store_info.info()"
   ]
  },
  {
   "cell_type": "code",
   "execution_count": 49,
   "id": "d9595136",
   "metadata": {},
   "outputs": [
    {
     "data": {
      "text/html": [
       "<div>\n",
       "<style scoped>\n",
       "    .dataframe tbody tr th:only-of-type {\n",
       "        vertical-align: middle;\n",
       "    }\n",
       "\n",
       "    .dataframe tbody tr th {\n",
       "        vertical-align: top;\n",
       "    }\n",
       "\n",
       "    .dataframe thead th {\n",
       "        text-align: right;\n",
       "    }\n",
       "</style>\n",
       "<table border=\"1\" class=\"dataframe\">\n",
       "  <thead>\n",
       "    <tr style=\"text-align: right;\">\n",
       "      <th></th>\n",
       "      <th>chw_store_id</th>\n",
       "      <th>chw_genre_name</th>\n",
       "      <th>chw_area_name</th>\n",
       "      <th>latitude</th>\n",
       "      <th>longitude</th>\n",
       "    </tr>\n",
       "  </thead>\n",
       "  <tbody>\n",
       "    <tr>\n",
       "      <th>0</th>\n",
       "      <td>air_0f0cdeee6c9bf3d7</td>\n",
       "      <td>Italian/French</td>\n",
       "      <td>Hyōgo-ken Kōbe-shi Kumoidōri</td>\n",
       "      <td>34.70</td>\n",
       "      <td>135.20</td>\n",
       "    </tr>\n",
       "    <tr>\n",
       "      <th>1</th>\n",
       "      <td>air_7cc17a324ae5c7dc</td>\n",
       "      <td>Italian/French</td>\n",
       "      <td>Hyōgo-ken Kōbe-shi Kumoidōri</td>\n",
       "      <td>34.70</td>\n",
       "      <td>135.20</td>\n",
       "    </tr>\n",
       "    <tr>\n",
       "      <th>2</th>\n",
       "      <td>air_fee8dcf4d619598e</td>\n",
       "      <td>Italian/French</td>\n",
       "      <td>Hyōgo-ken Kōbe-shi Kumoidōri</td>\n",
       "      <td>34.70</td>\n",
       "      <td>135.20</td>\n",
       "    </tr>\n",
       "    <tr>\n",
       "      <th>3</th>\n",
       "      <td>air_a17f0778617c76e2</td>\n",
       "      <td>Italian/French</td>\n",
       "      <td>Hyōgo-ken Kōbe-shi Kumoidōri</td>\n",
       "      <td>34.70</td>\n",
       "      <td>135.20</td>\n",
       "    </tr>\n",
       "    <tr>\n",
       "      <th>4</th>\n",
       "      <td>air_83db5aff8f50478e</td>\n",
       "      <td>Italian/French</td>\n",
       "      <td>Tōkyō-to Minato-ku Shibakōen</td>\n",
       "      <td>35.66</td>\n",
       "      <td>139.75</td>\n",
       "    </tr>\n",
       "    <tr>\n",
       "      <th>...</th>\n",
       "      <td>...</td>\n",
       "      <td>...</td>\n",
       "      <td>...</td>\n",
       "      <td>...</td>\n",
       "      <td>...</td>\n",
       "    </tr>\n",
       "    <tr>\n",
       "      <th>824</th>\n",
       "      <td>air_9bf595ef095572fb</td>\n",
       "      <td>International cuisine</td>\n",
       "      <td>Tōkyō-to Shibuya-ku Shibuya</td>\n",
       "      <td>35.66</td>\n",
       "      <td>139.70</td>\n",
       "    </tr>\n",
       "    <tr>\n",
       "      <th>825</th>\n",
       "      <td>air_764f71040a413d4d</td>\n",
       "      <td>Asian</td>\n",
       "      <td>Tōkyō-to Shibuya-ku Shibuya</td>\n",
       "      <td>35.66</td>\n",
       "      <td>139.70</td>\n",
       "    </tr>\n",
       "    <tr>\n",
       "      <th>826</th>\n",
       "      <td>air_10bbe8acd943d8f6</td>\n",
       "      <td>Asian</td>\n",
       "      <td>Tōkyō-to Shibuya-ku Shibuya</td>\n",
       "      <td>35.66</td>\n",
       "      <td>139.70</td>\n",
       "    </tr>\n",
       "    <tr>\n",
       "      <th>827</th>\n",
       "      <td>air_7514d90009613cd6</td>\n",
       "      <td>Karaoke/Party</td>\n",
       "      <td>Hokkaidō Sapporo-shi Minami 3 Jōnishi</td>\n",
       "      <td>43.06</td>\n",
       "      <td>141.34</td>\n",
       "    </tr>\n",
       "    <tr>\n",
       "      <th>828</th>\n",
       "      <td>air_c8fe396d6c46275d</td>\n",
       "      <td>Karaoke/Party</td>\n",
       "      <td>Hokkaidō Sapporo-shi Minami 3 Jōnishi</td>\n",
       "      <td>43.06</td>\n",
       "      <td>141.34</td>\n",
       "    </tr>\n",
       "  </tbody>\n",
       "</table>\n",
       "<p>829 rows × 5 columns</p>\n",
       "</div>"
      ],
      "text/plain": [
       "             chw_store_id         chw_genre_name  \\\n",
       "0    air_0f0cdeee6c9bf3d7         Italian/French   \n",
       "1    air_7cc17a324ae5c7dc         Italian/French   \n",
       "2    air_fee8dcf4d619598e         Italian/French   \n",
       "3    air_a17f0778617c76e2         Italian/French   \n",
       "4    air_83db5aff8f50478e         Italian/French   \n",
       "..                    ...                    ...   \n",
       "824  air_9bf595ef095572fb  International cuisine   \n",
       "825  air_764f71040a413d4d                  Asian   \n",
       "826  air_10bbe8acd943d8f6                  Asian   \n",
       "827  air_7514d90009613cd6          Karaoke/Party   \n",
       "828  air_c8fe396d6c46275d          Karaoke/Party   \n",
       "\n",
       "                             chw_area_name  latitude  longitude  \n",
       "0             Hyōgo-ken Kōbe-shi Kumoidōri     34.70     135.20  \n",
       "1             Hyōgo-ken Kōbe-shi Kumoidōri     34.70     135.20  \n",
       "2             Hyōgo-ken Kōbe-shi Kumoidōri     34.70     135.20  \n",
       "3             Hyōgo-ken Kōbe-shi Kumoidōri     34.70     135.20  \n",
       "4             Tōkyō-to Minato-ku Shibakōen     35.66     139.75  \n",
       "..                                     ...       ...        ...  \n",
       "824            Tōkyō-to Shibuya-ku Shibuya     35.66     139.70  \n",
       "825            Tōkyō-to Shibuya-ku Shibuya     35.66     139.70  \n",
       "826            Tōkyō-to Shibuya-ku Shibuya     35.66     139.70  \n",
       "827  Hokkaidō Sapporo-shi Minami 3 Jōnishi     43.06     141.34  \n",
       "828  Hokkaidō Sapporo-shi Minami 3 Jōnishi     43.06     141.34  \n",
       "\n",
       "[829 rows x 5 columns]"
      ]
     },
     "execution_count": 49,
     "metadata": {},
     "output_type": "execute_result"
    }
   ],
   "source": [
    "chw_store_info"
   ]
  },
  {
   "cell_type": "code",
   "execution_count": 50,
   "id": "310e0e72",
   "metadata": {},
   "outputs": [
    {
     "data": {
      "text/plain": [
       "False"
      ]
     },
     "execution_count": 50,
     "metadata": {},
     "output_type": "execute_result"
    }
   ],
   "source": [
    "chw_store_info.isnull().values.any()"
   ]
  },
  {
   "cell_type": "code",
   "execution_count": 51,
   "id": "300154d6",
   "metadata": {},
   "outputs": [
    {
     "data": {
      "text/plain": [
       "False"
      ]
     },
     "execution_count": 51,
     "metadata": {},
     "output_type": "execute_result"
    }
   ],
   "source": [
    "chw_store_info['chw_store_id'].duplicated().any()"
   ]
  },
  {
   "cell_type": "code",
   "execution_count": 52,
   "id": "8fd06f12",
   "metadata": {},
   "outputs": [
    {
     "name": "stdout",
     "output_type": "stream",
     "text": [
      "Number of unique restaurants in the chw_store_info table :  829\n"
     ]
    }
   ],
   "source": [
    "print('Number of unique restaurants in the chw_store_info table : ', len(chw_store_info['chw_store_id'].unique()))"
   ]
  },
  {
   "cell_type": "markdown",
   "id": "29f0f462",
   "metadata": {},
   "source": [
    "* chw_store_info file has __no null__ values, data is __clean__ and all chw_store_id are __unique__"
   ]
  },
  {
   "cell_type": "code",
   "execution_count": 53,
   "id": "819af7e0",
   "metadata": {},
   "outputs": [
    {
     "data": {
      "image/png": "[encoded data removed]",
      "text/plain": [
       "<Figure size 720x360 with 1 Axes>"
      ]
     },
     "metadata": {},
     "output_type": "display_data"
    }
   ],
   "source": [
    "temp = chw_store_info['chw_genre_name'].value_counts()\n",
    "temp.nlargest(10).sort_values().plot(kind='barh',figsize=(10,5))\n",
    "plt.xlabel(\"Number of restaurants serving this genre\")\n",
    "plt.show()"
   ]
  },
  {
   "cell_type": "markdown",
   "id": "5c73f102",
   "metadata": {},
   "source": [
    "* Above is the ordering of top 10 __popular food genres__"
   ]
  },
  {
   "cell_type": "code",
   "execution_count": 54,
   "id": "5829172d",
   "metadata": {},
   "outputs": [
    {
     "data": {
      "text/plain": [
       "Fukuoka-ken Fukuoka-shi Daimyō           64\n",
       "Tōkyō-to Shibuya-ku Shibuya              58\n",
       "Tōkyō-to Minato-ku Shibakōen             51\n",
       "Tōkyō-to Shinjuku-ku Kabukichō           39\n",
       "Tōkyō-to Setagaya-ku Setagaya            30\n",
       "                                         ..\n",
       "Fukuoka-ken Kitakyūshū-shi Konyamachi     2\n",
       "Tōkyō-to Taitō-ku Kuramae                 2\n",
       "Tōkyō-to Shibuya-ku Jingūmae              2\n",
       "Niigata-ken Kashiwazaki-shi Chūōchō       2\n",
       "Tōkyō-to Shibuya-ku Higashi               2\n",
       "Name: chw_area_name, Length: 103, dtype: int64"
      ]
     },
     "execution_count": 54,
     "metadata": {},
     "output_type": "execute_result"
    }
   ],
   "source": [
    "chw_store_info.chw_area_name.value_counts()"
   ]
  },
  {
   "cell_type": "code",
   "execution_count": 55,
   "id": "41781f21",
   "metadata": {},
   "outputs": [
    {
     "data": {
      "text/html": [
       "<div>\n",
       "<style scoped>\n",
       "    .dataframe tbody tr th:only-of-type {\n",
       "        vertical-align: middle;\n",
       "    }\n",
       "\n",
       "    .dataframe tbody tr th {\n",
       "        vertical-align: top;\n",
       "    }\n",
       "\n",
       "    .dataframe thead th {\n",
       "        text-align: right;\n",
       "    }\n",
       "</style>\n",
       "<table border=\"1\" class=\"dataframe\">\n",
       "  <thead>\n",
       "    <tr style=\"text-align: right;\">\n",
       "      <th></th>\n",
       "      <th>chw_store_id</th>\n",
       "      <th>chw_genre_name</th>\n",
       "      <th>chw_area_name</th>\n",
       "      <th>latitude</th>\n",
       "      <th>longitude</th>\n",
       "      <th>city</th>\n",
       "      <th>ward</th>\n",
       "      <th>neighborhood</th>\n",
       "    </tr>\n",
       "  </thead>\n",
       "  <tbody>\n",
       "    <tr>\n",
       "      <th>0</th>\n",
       "      <td>air_0f0cdeee6c9bf3d7</td>\n",
       "      <td>Italian/French</td>\n",
       "      <td>Hyōgo-ken Kōbe-shi Kumoidōri</td>\n",
       "      <td>34.70</td>\n",
       "      <td>135.20</td>\n",
       "      <td>Hyōgo-ken</td>\n",
       "      <td>Kōbe-shi</td>\n",
       "      <td>Kumoidōri</td>\n",
       "    </tr>\n",
       "    <tr>\n",
       "      <th>1</th>\n",
       "      <td>air_7cc17a324ae5c7dc</td>\n",
       "      <td>Italian/French</td>\n",
       "      <td>Hyōgo-ken Kōbe-shi Kumoidōri</td>\n",
       "      <td>34.70</td>\n",
       "      <td>135.20</td>\n",
       "      <td>Hyōgo-ken</td>\n",
       "      <td>Kōbe-shi</td>\n",
       "      <td>Kumoidōri</td>\n",
       "    </tr>\n",
       "    <tr>\n",
       "      <th>2</th>\n",
       "      <td>air_fee8dcf4d619598e</td>\n",
       "      <td>Italian/French</td>\n",
       "      <td>Hyōgo-ken Kōbe-shi Kumoidōri</td>\n",
       "      <td>34.70</td>\n",
       "      <td>135.20</td>\n",
       "      <td>Hyōgo-ken</td>\n",
       "      <td>Kōbe-shi</td>\n",
       "      <td>Kumoidōri</td>\n",
       "    </tr>\n",
       "    <tr>\n",
       "      <th>3</th>\n",
       "      <td>air_a17f0778617c76e2</td>\n",
       "      <td>Italian/French</td>\n",
       "      <td>Hyōgo-ken Kōbe-shi Kumoidōri</td>\n",
       "      <td>34.70</td>\n",
       "      <td>135.20</td>\n",
       "      <td>Hyōgo-ken</td>\n",
       "      <td>Kōbe-shi</td>\n",
       "      <td>Kumoidōri</td>\n",
       "    </tr>\n",
       "    <tr>\n",
       "      <th>4</th>\n",
       "      <td>air_83db5aff8f50478e</td>\n",
       "      <td>Italian/French</td>\n",
       "      <td>Tōkyō-to Minato-ku Shibakōen</td>\n",
       "      <td>35.66</td>\n",
       "      <td>139.75</td>\n",
       "      <td>Tōkyō-to</td>\n",
       "      <td>Minato-ku</td>\n",
       "      <td>Shibakōen</td>\n",
       "    </tr>\n",
       "  </tbody>\n",
       "</table>\n",
       "</div>"
      ],
      "text/plain": [
       "           chw_store_id  chw_genre_name                 chw_area_name  \\\n",
       "0  air_0f0cdeee6c9bf3d7  Italian/French  Hyōgo-ken Kōbe-shi Kumoidōri   \n",
       "1  air_7cc17a324ae5c7dc  Italian/French  Hyōgo-ken Kōbe-shi Kumoidōri   \n",
       "2  air_fee8dcf4d619598e  Italian/French  Hyōgo-ken Kōbe-shi Kumoidōri   \n",
       "3  air_a17f0778617c76e2  Italian/French  Hyōgo-ken Kōbe-shi Kumoidōri   \n",
       "4  air_83db5aff8f50478e  Italian/French  Tōkyō-to Minato-ku Shibakōen   \n",
       "\n",
       "   latitude  longitude       city       ward neighborhood  \n",
       "0     34.70     135.20  Hyōgo-ken   Kōbe-shi    Kumoidōri  \n",
       "1     34.70     135.20  Hyōgo-ken   Kōbe-shi    Kumoidōri  \n",
       "2     34.70     135.20  Hyōgo-ken   Kōbe-shi    Kumoidōri  \n",
       "3     34.70     135.20  Hyōgo-ken   Kōbe-shi    Kumoidōri  \n",
       "4     35.66     139.75   Tōkyō-to  Minato-ku    Shibakōen  "
      ]
     },
     "execution_count": 55,
     "metadata": {},
     "output_type": "execute_result"
    }
   ],
   "source": [
    "chw_store_info['city'] = chw_store_info['chw_area_name'].str.split().str[0]\n",
    "chw_store_info['ward'] = chw_store_info['chw_area_name'].str.split().str[1]\n",
    "chw_store_info['neighborhood'] = chw_store_info['chw_area_name'].str.split().str[2]\n",
    "chw_store_info.head()"
   ]
  },
  {
   "cell_type": "code",
   "execution_count": 56,
   "id": "82bdcf87",
   "metadata": {},
   "outputs": [
    {
     "data": {
      "image/png": "[encoded data removed]",
      "text/plain": [
       "<Figure size 720x360 with 1 Axes>"
      ]
     },
     "metadata": {},
     "output_type": "display_data"
    }
   ],
   "source": [
    "temp = chw_store_info['city'].value_counts()\n",
    "temp.sort_values().plot(kind='barh',figsize=(10,5))\n",
    "plt.xlabel(\"Number of restaurants in the city\")\n",
    "plt.show()"
   ]
  },
  {
   "cell_type": "markdown",
   "id": "e5ddc362",
   "metadata": {},
   "source": [
    "* City with most number of restaurants is Tokyo, Fukuoka, Osaka"
   ]
  },
  {
   "cell_type": "markdown",
   "id": "205d52ce",
   "metadata": {},
   "source": [
    "# Date Info CSV Analysis"
   ]
  },
  {
   "cell_type": "markdown",
   "id": "572cc115",
   "metadata": {},
   "source": [
    "__date_info.csv__\n",
    "\n",
    "Column Name | Column Description\n",
    "-------------|:------------------\n",
    "calendar_date | date\n",
    "day_of_week | day of the week\n",
    "holiday_flg | if the day is a holiday in Japan"
   ]
  },
  {
   "cell_type": "code",
   "execution_count": 58,
   "id": "279b3604",
   "metadata": {},
   "outputs": [
    {
     "name": "stdout",
     "output_type": "stream",
     "text": [
      "<class 'pandas.core.frame.DataFrame'>\n",
      "RangeIndex: 517 entries, 0 to 516\n",
      "Data columns (total 3 columns):\n",
      " #   Column         Non-Null Count  Dtype \n",
      "---  ------         --------------  ----- \n",
      " 0   calendar_date  517 non-null    object\n",
      " 1   day_of_week    517 non-null    object\n",
      " 2   holiday_flg    517 non-null    int64 \n",
      "dtypes: int64(1), object(2)\n",
      "memory usage: 12.2+ KB\n"
     ]
    }
   ],
   "source": [
    "date_info = pd.read_csv('Data/come-visit-again-iiitb/date_info.csv')\n",
    "date_info.info()"
   ]
  },
  {
   "cell_type": "code",
   "execution_count": 59,
   "id": "0effac5e",
   "metadata": {},
   "outputs": [],
   "source": [
    "date_info.calendar_date = pd.to_datetime(date_info.calendar_date)"
   ]
  },
  {
   "cell_type": "code",
   "execution_count": 60,
   "id": "26cfa72a",
   "metadata": {},
   "outputs": [
    {
     "data": {
      "text/html": [
       "<div>\n",
       "<style scoped>\n",
       "    .dataframe tbody tr th:only-of-type {\n",
       "        vertical-align: middle;\n",
       "    }\n",
       "\n",
       "    .dataframe tbody tr th {\n",
       "        vertical-align: top;\n",
       "    }\n",
       "\n",
       "    .dataframe thead th {\n",
       "        text-align: right;\n",
       "    }\n",
       "</style>\n",
       "<table border=\"1\" class=\"dataframe\">\n",
       "  <thead>\n",
       "    <tr style=\"text-align: right;\">\n",
       "      <th></th>\n",
       "      <th>calendar_date</th>\n",
       "      <th>day_of_week</th>\n",
       "      <th>holiday_flg</th>\n",
       "    </tr>\n",
       "  </thead>\n",
       "  <tbody>\n",
       "    <tr>\n",
       "      <th>0</th>\n",
       "      <td>2016-01-01</td>\n",
       "      <td>Friday</td>\n",
       "      <td>1</td>\n",
       "    </tr>\n",
       "    <tr>\n",
       "      <th>1</th>\n",
       "      <td>2016-01-02</td>\n",
       "      <td>Saturday</td>\n",
       "      <td>1</td>\n",
       "    </tr>\n",
       "    <tr>\n",
       "      <th>2</th>\n",
       "      <td>2016-01-03</td>\n",
       "      <td>Sunday</td>\n",
       "      <td>1</td>\n",
       "    </tr>\n",
       "    <tr>\n",
       "      <th>3</th>\n",
       "      <td>2016-01-04</td>\n",
       "      <td>Monday</td>\n",
       "      <td>0</td>\n",
       "    </tr>\n",
       "    <tr>\n",
       "      <th>4</th>\n",
       "      <td>2016-01-05</td>\n",
       "      <td>Tuesday</td>\n",
       "      <td>0</td>\n",
       "    </tr>\n",
       "  </tbody>\n",
       "</table>\n",
       "</div>"
      ],
      "text/plain": [
       "  calendar_date day_of_week  holiday_flg\n",
       "0    2016-01-01      Friday            1\n",
       "1    2016-01-02    Saturday            1\n",
       "2    2016-01-03      Sunday            1\n",
       "3    2016-01-04      Monday            0\n",
       "4    2016-01-05     Tuesday            0"
      ]
     },
     "execution_count": 60,
     "metadata": {},
     "output_type": "execute_result"
    }
   ],
   "source": [
    "date_info.head()"
   ]
  },
  {
   "cell_type": "code",
   "execution_count": 61,
   "id": "f94adb89",
   "metadata": {},
   "outputs": [
    {
     "data": {
      "text/plain": [
       "0    482\n",
       "1     35\n",
       "Name: holiday_flg, dtype: int64"
      ]
     },
     "execution_count": 61,
     "metadata": {},
     "output_type": "execute_result"
    }
   ],
   "source": [
    "date_info.holiday_flg.value_counts()"
   ]
  },
  {
   "cell_type": "markdown",
   "id": "6ded789d",
   "metadata": {},
   "source": [
    "* It is not yet clear if __holiday flag__ means restaurants are closed that day, or if restaurants are open and chances are there would be more crowd on holidays\n",
    "* There are __35 Holidays__ in the span of our timeseries"
   ]
  },
  {
   "cell_type": "code",
   "execution_count": 62,
   "id": "d146c29a",
   "metadata": {},
   "outputs": [
    {
     "data": {
      "text/plain": [
       "False"
      ]
     },
     "execution_count": 62,
     "metadata": {},
     "output_type": "execute_result"
    }
   ],
   "source": [
    "date_info.isnull().values.any()"
   ]
  },
  {
   "cell_type": "markdown",
   "id": "df2a4d3d",
   "metadata": {},
   "source": [
    "* There are __no null values__ in the table."
   ]
  },
  {
   "cell_type": "code",
   "execution_count": null,
   "id": "bfbd856c",
   "metadata": {},
   "outputs": [],
   "source": []
  }
 ],
 "metadata": {
  "kernelspec": {
   "display_name": "Python 3 (ipykernel)",
   "language": "python",
   "name": "python3"
  },
  "language_info": {
   "codemirror_mode": {
    "name": "ipython",
    "version": 3
   },
   "file_extension": ".py",
   "mimetype": "text/x-python",
   "name": "python",
   "nbconvert_exporter": "python",
   "pygments_lexer": "ipython3",
   "version": "3.8.10"
  }
 },
 "nbformat": 4,
 "nbformat_minor": 5
}
