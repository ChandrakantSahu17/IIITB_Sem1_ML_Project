{
 "cells": [
  {
   "cell_type": "markdown",
   "id": "dea150cb",
   "metadata": {},
   "source": [
    "# Come Visit Again\n",
    "## Team Members : \n",
    "* Abhishek Tandon\n",
    "* Chandrakant Sahu"
   ]
  },
  {
   "cell_type": "markdown",
   "id": "05ae37fd",
   "metadata": {},
   "source": [
    "# Project Overview"
   ]
  },
  {
   "cell_type": "markdown",
   "id": "04596c3c",
   "metadata": {},
   "source": [
    "### Discription\n",
    "TAs have collected data from Chwiggy & Yomato (restaurant sales service & review platforms)\n",
    "\n",
    "### Evaluation\n",
    "TAs are challenging us to predict the expected number of visitors to a given restaurant on given date to help the restaurants be better equipped and prepared.\n"
   ]
  },
  {
   "cell_type": "markdown",
   "id": "4cfe5c61",
   "metadata": {},
   "source": [
    "### Data Description\n",
    "In this competition, we are provided a time-series forecasting problem centered around restaurant visitors.<br>\n",
    "The data comes from two separate sites:<br>\n",
    " -> Yomato(yom) - which uses high performance grouping (hpg) to collect and store restaurant data.<br>\n",
    " -> Chwiggy(chw) - which uses all index restaurant (air) to collect and store the restaurant data.<p>\n",
    "We have use the reservations, visits, and other information from these sites to forecast future restaurant\n",
    "visitor totals on a given date. The training data covers the dates from 2016 until early (first week) April 2017.\n",
    "The test set covers the mid weeks (second and third weeks) of April 2017. The training and testing set both\n",
    "omit days where the restaurants were closed."
   ]
  },
  {
   "cell_type": "markdown",
   "id": "6ca6c0d9",
   "metadata": {},
   "source": [
    "<h2>File Description:</h2>\n",
    "<p>This is a relational dataset from two systems. Each file is prefaced with the source (either air_ or hpg_) to indicate its origin. Each restaurant has a unique <code>chw_store_id</code> and <code>yom_store_id</code>. Note that not all restaurants are covered by both systems, and that you have been provided data beyond the restaurants for which you must forecast.</p>\n",
    "<h2><strong>train.csv</strong></h2>\n",
    "<p>This file contains historical visit data for the chwiggy restaurants.</p>\n",
    "<ol>\n",
    "<li>chw_store_id - store id with air prefix.</li>\n",
    "<li>visit_date - the date</li>\n",
    "<li>visitors - the number of visitors to the restaurant on the date</li>\n",
    "</ol>\n",
    "<h2><strong>sample_submission.csv</strong></h2>\n",
    "<p>This file shows a submission in the correct format, including the days for which you must forecast.</p>\n",
    "<ol>\n",
    "<li>id - the id is formed by concatenating the chw_store_id and visit_date with an underscore.</li>\n",
    "<li>visitors- the number of visitors forecasted for the store and date combination.</li>\n",
    "</ol>"
   ]
  },
  {
   "cell_type": "code",
   "execution_count": 27,
   "id": "78c1ff39",
   "metadata": {},
   "outputs": [],
   "source": [
    "import pandas as pd\n",
    "import numpy as np\n",
    "import matplotlib.pyplot as plt\n",
    "%matplotlib inline\n",
    "import seaborn as sns\n",
    "import warnings\n",
    "warnings.filterwarnings(\"ignore\")"
   ]
  },
  {
   "cell_type": "code",
   "execution_count": 28,
   "id": "b37a8eef",
   "metadata": {},
   "outputs": [],
   "source": [
    "pd.set_option(\"display.max_rows\", 20)\n",
    "pd.set_option(\"display.max_columns\", 50)\n",
    "pd.set_option('display.float_format', lambda x: '%.2f' % x)\n",
    "sns.set(color_codes=True)"
   ]
  },
  {
   "cell_type": "markdown",
   "id": "da5b9399",
   "metadata": {},
   "source": [
    "# Chwiggy CSV Analysis"
   ]
  },
  {
   "cell_type": "markdown",
   "id": "d3f07390",
   "metadata": {},
   "source": [
    "__chw_reserve__\n",
    "\n",
    "Column Name | Column Description\n",
    "-------------|:------------------\n",
    "chw_store_id | restaurant id in the Chwiggy system\n",
    "visit_datetime| time of the reservation\n",
    "reserve_datetime | time the reservation was made\n",
    "reserve_visitors | number of visitors for that reservation"
   ]
  },
  {
   "cell_type": "code",
   "execution_count": 29,
   "id": "bda25a13",
   "metadata": {},
   "outputs": [],
   "source": [
    "chw_reserve = pd.read_csv('Data/come-visit-again-iiitb/chw_reserve.csv')"
   ]
  },
  {
   "cell_type": "code",
   "execution_count": 31,
   "id": "7267e114",
   "metadata": {},
   "outputs": [
    {
     "data": {
      "text/html": [
       "<div>\n",
       "<style scoped>\n",
       "    .dataframe tbody tr th:only-of-type {\n",
       "        vertical-align: middle;\n",
       "    }\n",
       "\n",
       "    .dataframe tbody tr th {\n",
       "        vertical-align: top;\n",
       "    }\n",
       "\n",
       "    .dataframe thead th {\n",
       "        text-align: right;\n",
       "    }\n",
       "</style>\n",
       "<table border=\"1\" class=\"dataframe\">\n",
       "  <thead>\n",
       "    <tr style=\"text-align: right;\">\n",
       "      <th></th>\n",
       "      <th>chw_store_id</th>\n",
       "      <th>visit_datetime</th>\n",
       "      <th>reserve_datetime</th>\n",
       "      <th>reserve_visitors</th>\n",
       "    </tr>\n",
       "  </thead>\n",
       "  <tbody>\n",
       "    <tr>\n",
       "      <th>0</th>\n",
       "      <td>air_877f79706adbfb06</td>\n",
       "      <td>1/1/2016 19:00</td>\n",
       "      <td>1/1/2016 16:00</td>\n",
       "      <td>1</td>\n",
       "    </tr>\n",
       "    <tr>\n",
       "      <th>1</th>\n",
       "      <td>air_db4b38ebe7a7ceff</td>\n",
       "      <td>1/1/2016 19:00</td>\n",
       "      <td>1/1/2016 19:00</td>\n",
       "      <td>3</td>\n",
       "    </tr>\n",
       "    <tr>\n",
       "      <th>2</th>\n",
       "      <td>air_db4b38ebe7a7ceff</td>\n",
       "      <td>1/1/2016 19:00</td>\n",
       "      <td>1/1/2016 19:00</td>\n",
       "      <td>6</td>\n",
       "    </tr>\n",
       "    <tr>\n",
       "      <th>3</th>\n",
       "      <td>air_877f79706adbfb06</td>\n",
       "      <td>1/1/2016 20:00</td>\n",
       "      <td>1/1/2016 16:00</td>\n",
       "      <td>2</td>\n",
       "    </tr>\n",
       "    <tr>\n",
       "      <th>4</th>\n",
       "      <td>air_db80363d35f10926</td>\n",
       "      <td>1/1/2016 20:00</td>\n",
       "      <td>1/1/2016 1:00</td>\n",
       "      <td>5</td>\n",
       "    </tr>\n",
       "  </tbody>\n",
       "</table>\n",
       "</div>"
      ],
      "text/plain": [
       "           chw_store_id  visit_datetime reserve_datetime  reserve_visitors\n",
       "0  air_877f79706adbfb06  1/1/2016 19:00   1/1/2016 16:00                 1\n",
       "1  air_db4b38ebe7a7ceff  1/1/2016 19:00   1/1/2016 19:00                 3\n",
       "2  air_db4b38ebe7a7ceff  1/1/2016 19:00   1/1/2016 19:00                 6\n",
       "3  air_877f79706adbfb06  1/1/2016 20:00   1/1/2016 16:00                 2\n",
       "4  air_db80363d35f10926  1/1/2016 20:00    1/1/2016 1:00                 5"
      ]
     },
     "execution_count": 31,
     "metadata": {},
     "output_type": "execute_result"
    }
   ],
   "source": [
    "chw_reserve.head()"
   ]
  },
  {
   "cell_type": "code",
   "execution_count": 32,
   "id": "5ffc6f67",
   "metadata": {},
   "outputs": [
    {
     "name": "stdout",
     "output_type": "stream",
     "text": [
      "2016-01-01 20:00:00\n"
     ]
    }
   ],
   "source": [
    "from dateutil.parser import parse\n",
    "print(parse(chw_reserve['visit_datetime'][4]))"
   ]
  },
  {
   "cell_type": "code",
   "execution_count": 33,
   "id": "8917d996",
   "metadata": {},
   "outputs": [],
   "source": [
    "#parsing date time so that date time of every table/relation matches\n",
    "chw_reserve['visit_datetime'] = [ parse(i) for i in chw_reserve['visit_datetime']]"
   ]
  },
  {
   "cell_type": "code",
   "execution_count": 34,
   "id": "9a9af69c",
   "metadata": {},
   "outputs": [
    {
     "data": {
      "text/html": [
       "<div>\n",
       "<style scoped>\n",
       "    .dataframe tbody tr th:only-of-type {\n",
       "        vertical-align: middle;\n",
       "    }\n",
       "\n",
       "    .dataframe tbody tr th {\n",
       "        vertical-align: top;\n",
       "    }\n",
       "\n",
       "    .dataframe thead th {\n",
       "        text-align: right;\n",
       "    }\n",
       "</style>\n",
       "<table border=\"1\" class=\"dataframe\">\n",
       "  <thead>\n",
       "    <tr style=\"text-align: right;\">\n",
       "      <th></th>\n",
       "      <th>chw_store_id</th>\n",
       "      <th>visit_datetime</th>\n",
       "      <th>reserve_datetime</th>\n",
       "      <th>reserve_visitors</th>\n",
       "    </tr>\n",
       "  </thead>\n",
       "  <tbody>\n",
       "    <tr>\n",
       "      <th>0</th>\n",
       "      <td>air_877f79706adbfb06</td>\n",
       "      <td>2016-01-01 19:00:00</td>\n",
       "      <td>1/1/2016 16:00</td>\n",
       "      <td>1</td>\n",
       "    </tr>\n",
       "    <tr>\n",
       "      <th>1</th>\n",
       "      <td>air_db4b38ebe7a7ceff</td>\n",
       "      <td>2016-01-01 19:00:00</td>\n",
       "      <td>1/1/2016 19:00</td>\n",
       "      <td>3</td>\n",
       "    </tr>\n",
       "    <tr>\n",
       "      <th>2</th>\n",
       "      <td>air_db4b38ebe7a7ceff</td>\n",
       "      <td>2016-01-01 19:00:00</td>\n",
       "      <td>1/1/2016 19:00</td>\n",
       "      <td>6</td>\n",
       "    </tr>\n",
       "    <tr>\n",
       "      <th>3</th>\n",
       "      <td>air_877f79706adbfb06</td>\n",
       "      <td>2016-01-01 20:00:00</td>\n",
       "      <td>1/1/2016 16:00</td>\n",
       "      <td>2</td>\n",
       "    </tr>\n",
       "    <tr>\n",
       "      <th>4</th>\n",
       "      <td>air_db80363d35f10926</td>\n",
       "      <td>2016-01-01 20:00:00</td>\n",
       "      <td>1/1/2016 1:00</td>\n",
       "      <td>5</td>\n",
       "    </tr>\n",
       "  </tbody>\n",
       "</table>\n",
       "</div>"
      ],
      "text/plain": [
       "           chw_store_id      visit_datetime reserve_datetime  reserve_visitors\n",
       "0  air_877f79706adbfb06 2016-01-01 19:00:00   1/1/2016 16:00                 1\n",
       "1  air_db4b38ebe7a7ceff 2016-01-01 19:00:00   1/1/2016 19:00                 3\n",
       "2  air_db4b38ebe7a7ceff 2016-01-01 19:00:00   1/1/2016 19:00                 6\n",
       "3  air_877f79706adbfb06 2016-01-01 20:00:00   1/1/2016 16:00                 2\n",
       "4  air_db80363d35f10926 2016-01-01 20:00:00    1/1/2016 1:00                 5"
      ]
     },
     "execution_count": 34,
     "metadata": {},
     "output_type": "execute_result"
    }
   ],
   "source": [
    "chw_reserve.head()"
   ]
  },
  {
   "cell_type": "code",
   "execution_count": 35,
   "id": "bed7b7f3",
   "metadata": {},
   "outputs": [
    {
     "data": {
      "text/html": [
       "<div>\n",
       "<style scoped>\n",
       "    .dataframe tbody tr th:only-of-type {\n",
       "        vertical-align: middle;\n",
       "    }\n",
       "\n",
       "    .dataframe tbody tr th {\n",
       "        vertical-align: top;\n",
       "    }\n",
       "\n",
       "    .dataframe thead th {\n",
       "        text-align: right;\n",
       "    }\n",
       "</style>\n",
       "<table border=\"1\" class=\"dataframe\">\n",
       "  <thead>\n",
       "    <tr style=\"text-align: right;\">\n",
       "      <th></th>\n",
       "      <th>chw_store_id</th>\n",
       "      <th>visit_datetime</th>\n",
       "      <th>reserve_datetime</th>\n",
       "      <th>reserve_visitors</th>\n",
       "    </tr>\n",
       "  </thead>\n",
       "  <tbody>\n",
       "    <tr>\n",
       "      <th>0</th>\n",
       "      <td>air_877f79706adbfb06</td>\n",
       "      <td>2016-01-01 19:00:00</td>\n",
       "      <td>2016-01-01 16:00:00</td>\n",
       "      <td>1</td>\n",
       "    </tr>\n",
       "    <tr>\n",
       "      <th>1</th>\n",
       "      <td>air_db4b38ebe7a7ceff</td>\n",
       "      <td>2016-01-01 19:00:00</td>\n",
       "      <td>2016-01-01 19:00:00</td>\n",
       "      <td>3</td>\n",
       "    </tr>\n",
       "    <tr>\n",
       "      <th>2</th>\n",
       "      <td>air_db4b38ebe7a7ceff</td>\n",
       "      <td>2016-01-01 19:00:00</td>\n",
       "      <td>2016-01-01 19:00:00</td>\n",
       "      <td>6</td>\n",
       "    </tr>\n",
       "    <tr>\n",
       "      <th>3</th>\n",
       "      <td>air_877f79706adbfb06</td>\n",
       "      <td>2016-01-01 20:00:00</td>\n",
       "      <td>2016-01-01 16:00:00</td>\n",
       "      <td>2</td>\n",
       "    </tr>\n",
       "    <tr>\n",
       "      <th>4</th>\n",
       "      <td>air_db80363d35f10926</td>\n",
       "      <td>2016-01-01 20:00:00</td>\n",
       "      <td>2016-01-01 01:00:00</td>\n",
       "      <td>5</td>\n",
       "    </tr>\n",
       "  </tbody>\n",
       "</table>\n",
       "</div>"
      ],
      "text/plain": [
       "           chw_store_id      visit_datetime    reserve_datetime  \\\n",
       "0  air_877f79706adbfb06 2016-01-01 19:00:00 2016-01-01 16:00:00   \n",
       "1  air_db4b38ebe7a7ceff 2016-01-01 19:00:00 2016-01-01 19:00:00   \n",
       "2  air_db4b38ebe7a7ceff 2016-01-01 19:00:00 2016-01-01 19:00:00   \n",
       "3  air_877f79706adbfb06 2016-01-01 20:00:00 2016-01-01 16:00:00   \n",
       "4  air_db80363d35f10926 2016-01-01 20:00:00 2016-01-01 01:00:00   \n",
       "\n",
       "   reserve_visitors  \n",
       "0                 1  \n",
       "1                 3  \n",
       "2                 6  \n",
       "3                 2  \n",
       "4                 5  "
      ]
     },
     "execution_count": 35,
     "metadata": {},
     "output_type": "execute_result"
    }
   ],
   "source": [
    "chw_reserve['reserve_datetime'] = [ parse(i) for i in chw_reserve['reserve_datetime']]\n",
    "chw_reserve.head()"
   ]
  },
  {
   "cell_type": "code",
   "execution_count": 36,
   "id": "348d7121",
   "metadata": {},
   "outputs": [
    {
     "name": "stdout",
     "output_type": "stream",
     "text": [
      "<class 'pandas.core.frame.DataFrame'>\n",
      "RangeIndex: 92378 entries, 0 to 92377\n",
      "Data columns (total 4 columns):\n",
      " #   Column            Non-Null Count  Dtype         \n",
      "---  ------            --------------  -----         \n",
      " 0   chw_store_id      92378 non-null  object        \n",
      " 1   visit_datetime    92378 non-null  datetime64[ns]\n",
      " 2   reserve_datetime  92378 non-null  datetime64[ns]\n",
      " 3   reserve_visitors  92378 non-null  int64         \n",
      "dtypes: datetime64[ns](2), int64(1), object(1)\n",
      "memory usage: 2.8+ MB\n"
     ]
    }
   ],
   "source": [
    "chw_reserve.info()"
   ]
  },
  {
   "cell_type": "markdown",
   "id": "1fa58957",
   "metadata": {},
   "source": [
    "* We have total 92378 rows in the table with 4 columns. \n",
    "* Visit Dates and Reserve Dates are currently object data types, which needs to be converted to __data time format__. "
   ]
  },
  {
   "cell_type": "code",
   "execution_count": 37,
   "id": "1cdfd4ad",
   "metadata": {},
   "outputs": [
    {
     "data": {
      "text/html": [
       "<div>\n",
       "<style scoped>\n",
       "    .dataframe tbody tr th:only-of-type {\n",
       "        vertical-align: middle;\n",
       "    }\n",
       "\n",
       "    .dataframe tbody tr th {\n",
       "        vertical-align: top;\n",
       "    }\n",
       "\n",
       "    .dataframe thead th {\n",
       "        text-align: right;\n",
       "    }\n",
       "</style>\n",
       "<table border=\"1\" class=\"dataframe\">\n",
       "  <thead>\n",
       "    <tr style=\"text-align: right;\">\n",
       "      <th></th>\n",
       "      <th>reserve_visitors</th>\n",
       "    </tr>\n",
       "  </thead>\n",
       "  <tbody>\n",
       "    <tr>\n",
       "      <th>count</th>\n",
       "      <td>92378.00</td>\n",
       "    </tr>\n",
       "    <tr>\n",
       "      <th>mean</th>\n",
       "      <td>4.48</td>\n",
       "    </tr>\n",
       "    <tr>\n",
       "      <th>std</th>\n",
       "      <td>4.92</td>\n",
       "    </tr>\n",
       "    <tr>\n",
       "      <th>min</th>\n",
       "      <td>1.00</td>\n",
       "    </tr>\n",
       "    <tr>\n",
       "      <th>25%</th>\n",
       "      <td>2.00</td>\n",
       "    </tr>\n",
       "    <tr>\n",
       "      <th>50%</th>\n",
       "      <td>3.00</td>\n",
       "    </tr>\n",
       "    <tr>\n",
       "      <th>75%</th>\n",
       "      <td>5.00</td>\n",
       "    </tr>\n",
       "    <tr>\n",
       "      <th>max</th>\n",
       "      <td>100.00</td>\n",
       "    </tr>\n",
       "  </tbody>\n",
       "</table>\n",
       "</div>"
      ],
      "text/plain": [
       "       reserve_visitors\n",
       "count          92378.00\n",
       "mean               4.48\n",
       "std                4.92\n",
       "min                1.00\n",
       "25%                2.00\n",
       "50%                3.00\n",
       "75%                5.00\n",
       "max              100.00"
      ]
     },
     "execution_count": 37,
     "metadata": {},
     "output_type": "execute_result"
    }
   ],
   "source": [
    "chw_reserve.describe()"
   ]
  },
  {
   "cell_type": "markdown",
   "id": "901a421b",
   "metadata": {},
   "source": [
    "* We have atleast 1 visitor for all rows. And it's obious because 0 reservation dosen't make any sence. \n",
    "* Maximum visitors count is 100 which is much higher than the mean visitors count. \n",
    "* We have data from 2016-01-01 19:00:00 and end date is 2017-05-31 21:00:00"
   ]
  },
  {
   "cell_type": "code",
   "execution_count": 39,
   "id": "d780be5d",
   "metadata": {},
   "outputs": [
    {
     "data": {
      "text/plain": [
       "False"
      ]
     },
     "execution_count": 39,
     "metadata": {},
     "output_type": "execute_result"
    }
   ],
   "source": [
    "#let's check if there is any null value in chw_reserve\n",
    "chw_reserve.isnull().values.any()"
   ]
  },
  {
   "cell_type": "markdown",
   "id": "24298afc",
   "metadata": {},
   "source": [
    "There are __no null value__ in __chw_reserve__"
   ]
  },
  {
   "cell_type": "code",
   "execution_count": 44,
   "id": "f2a07a5a",
   "metadata": {},
   "outputs": [
    {
     "name": "stdout",
     "output_type": "stream",
     "text": [
      "Number of unique restaunts in chwigge -  314\n"
     ]
    }
   ],
   "source": [
    "print( \"Number of unique restaunts in chwigge - \", len(chw_reserve['chw_store_id'].unique()))"
   ]
  },
  {
   "cell_type": "code",
   "execution_count": 45,
   "id": "946a7562",
   "metadata": {},
   "outputs": [
    {
     "data": {
      "text/html": [
       "<div>\n",
       "<style scoped>\n",
       "    .dataframe tbody tr th:only-of-type {\n",
       "        vertical-align: middle;\n",
       "    }\n",
       "\n",
       "    .dataframe tbody tr th {\n",
       "        vertical-align: top;\n",
       "    }\n",
       "\n",
       "    .dataframe thead th {\n",
       "        text-align: right;\n",
       "    }\n",
       "</style>\n",
       "<table border=\"1\" class=\"dataframe\">\n",
       "  <thead>\n",
       "    <tr style=\"text-align: right;\">\n",
       "      <th></th>\n",
       "      <th>chw_store_id</th>\n",
       "      <th>visit_datetime</th>\n",
       "      <th>reserve_datetime</th>\n",
       "      <th>reserve_visitors</th>\n",
       "      <th>visit_year</th>\n",
       "      <th>visit_month</th>\n",
       "      <th>visit_weekday</th>\n",
       "      <th>visit_date</th>\n",
       "    </tr>\n",
       "  </thead>\n",
       "  <tbody>\n",
       "    <tr>\n",
       "      <th>0</th>\n",
       "      <td>air_877f79706adbfb06</td>\n",
       "      <td>2016-01-01 19:00:00</td>\n",
       "      <td>2016-01-01 16:00:00</td>\n",
       "      <td>1</td>\n",
       "      <td>2016</td>\n",
       "      <td>1</td>\n",
       "      <td>4</td>\n",
       "      <td>2016-01-01</td>\n",
       "    </tr>\n",
       "    <tr>\n",
       "      <th>1</th>\n",
       "      <td>air_db4b38ebe7a7ceff</td>\n",
       "      <td>2016-01-01 19:00:00</td>\n",
       "      <td>2016-01-01 19:00:00</td>\n",
       "      <td>3</td>\n",
       "      <td>2016</td>\n",
       "      <td>1</td>\n",
       "      <td>4</td>\n",
       "      <td>2016-01-01</td>\n",
       "    </tr>\n",
       "    <tr>\n",
       "      <th>2</th>\n",
       "      <td>air_db4b38ebe7a7ceff</td>\n",
       "      <td>2016-01-01 19:00:00</td>\n",
       "      <td>2016-01-01 19:00:00</td>\n",
       "      <td>6</td>\n",
       "      <td>2016</td>\n",
       "      <td>1</td>\n",
       "      <td>4</td>\n",
       "      <td>2016-01-01</td>\n",
       "    </tr>\n",
       "    <tr>\n",
       "      <th>3</th>\n",
       "      <td>air_877f79706adbfb06</td>\n",
       "      <td>2016-01-01 20:00:00</td>\n",
       "      <td>2016-01-01 16:00:00</td>\n",
       "      <td>2</td>\n",
       "      <td>2016</td>\n",
       "      <td>1</td>\n",
       "      <td>4</td>\n",
       "      <td>2016-01-01</td>\n",
       "    </tr>\n",
       "    <tr>\n",
       "      <th>4</th>\n",
       "      <td>air_db80363d35f10926</td>\n",
       "      <td>2016-01-01 20:00:00</td>\n",
       "      <td>2016-01-01 01:00:00</td>\n",
       "      <td>5</td>\n",
       "      <td>2016</td>\n",
       "      <td>1</td>\n",
       "      <td>4</td>\n",
       "      <td>2016-01-01</td>\n",
       "    </tr>\n",
       "  </tbody>\n",
       "</table>\n",
       "</div>"
      ],
      "text/plain": [
       "           chw_store_id      visit_datetime    reserve_datetime  \\\n",
       "0  air_877f79706adbfb06 2016-01-01 19:00:00 2016-01-01 16:00:00   \n",
       "1  air_db4b38ebe7a7ceff 2016-01-01 19:00:00 2016-01-01 19:00:00   \n",
       "2  air_db4b38ebe7a7ceff 2016-01-01 19:00:00 2016-01-01 19:00:00   \n",
       "3  air_877f79706adbfb06 2016-01-01 20:00:00 2016-01-01 16:00:00   \n",
       "4  air_db80363d35f10926 2016-01-01 20:00:00 2016-01-01 01:00:00   \n",
       "\n",
       "   reserve_visitors  visit_year  visit_month  visit_weekday  visit_date  \n",
       "0                 1        2016            1              4  2016-01-01  \n",
       "1                 3        2016            1              4  2016-01-01  \n",
       "2                 6        2016            1              4  2016-01-01  \n",
       "3                 2        2016            1              4  2016-01-01  \n",
       "4                 5        2016            1              4  2016-01-01  "
      ]
     },
     "execution_count": 45,
     "metadata": {},
     "output_type": "execute_result"
    }
   ],
   "source": [
    "chw_reserve[\"visit_year\"] = pd.DatetimeIndex(chw_reserve['visit_datetime']).year\n",
    "chw_reserve[\"visit_month\"] = pd.DatetimeIndex(chw_reserve['visit_datetime']).month\n",
    "chw_reserve[\"visit_weekday\"] = pd.DatetimeIndex(chw_reserve['visit_datetime']).weekday\n",
    "chw_reserve[\"visit_date\"] = pd.DatetimeIndex(chw_reserve['visit_datetime']).date\n",
    "chw_reserve.head()"
   ]
  },
  {
   "cell_type": "code",
   "execution_count": null,
   "id": "3670f970",
   "metadata": {},
   "outputs": [],
   "source": []
  }
 ],
 "metadata": {
  "kernelspec": {
   "display_name": "Python 3 (ipykernel)",
   "language": "python",
   "name": "python3"
  },
  "language_info": {
   "codemirror_mode": {
    "name": "ipython",
    "version": 3
   },
   "file_extension": ".py",
   "mimetype": "text/x-python",
   "name": "python",
   "nbconvert_exporter": "python",
   "pygments_lexer": "ipython3",
   "version": "3.8.10"
  }
 },
 "nbformat": 4,
 "nbformat_minor": 5
}
